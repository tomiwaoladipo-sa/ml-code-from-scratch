{
 "cells": [
  {
   "cell_type": "code",
   "execution_count": null,
   "metadata": {},
   "outputs": [
    {
     "name": "stdout",
     "output_type": "stream",
     "text": [
      "The autoreload extension is already loaded. To reload it, use:\n",
      "  %reload_ext autoreload\n",
      "Current working directory: /\n"
     ]
    }
   ],
   "source": [
    "# Load the autoreload extension\n",
    "%load_ext autoreload\n",
    "\n",
    "# Set autoreload to automatically reload all modules\n",
    "%autoreload 2\n",
    "\n",
    "import numpy as np\n",
    "import pandas as pd\n",
    "from sklearn.datasets import load_breast_cancer\n",
    "import os\n",
    "\n",
    "\n",
    "# Set the working directory to the parent directory\n",
    "parent_directory = os.path.abspath(os.path.join(os.getcwd(), os.pardir))\n",
    "os.chdir(parent_directory)\n",
    "\n",
    "from models.DecisionTree.DecisionTree import DecisionTree\n",
    "\n",
    "# Verify the current working directory\n",
    "print(\"Current working directory:\", os.getcwd())"
   ]
  },
  {
   "cell_type": "code",
   "execution_count": 416,
   "metadata": {},
   "outputs": [],
   "source": [
    "# define custom decision tree depth function\n",
    "def count_depth(d):\n",
    "    if not isinstance(d, dict) or not d:\n",
    "        return 0\n",
    "    return 1 + max(count_depth(v) for v in d.values())"
   ]
  },
  {
   "cell_type": "code",
   "execution_count": 417,
   "metadata": {},
   "outputs": [
    {
     "data": {
      "text/plain": [
       "(569,)"
      ]
     },
     "execution_count": 417,
     "metadata": {},
     "output_type": "execute_result"
    }
   ],
   "source": [
    "breast_cancer = load_breast_cancer(as_frame=True)\n",
    "df_breast_cancer = breast_cancer.data\n",
    "arr_features = np.array(df_breast_cancer.copy())\n",
    "arr_features.shape\n",
    "arr_target = np.array(breast_cancer.target.copy())\n",
    "arr_target.shape"
   ]
  },
  {
   "cell_type": "code",
   "execution_count": 418,
   "metadata": {},
   "outputs": [
    {
     "data": {
      "text/html": [
       "<div>\n",
       "<style scoped>\n",
       "    .dataframe tbody tr th:only-of-type {\n",
       "        vertical-align: middle;\n",
       "    }\n",
       "\n",
       "    .dataframe tbody tr th {\n",
       "        vertical-align: top;\n",
       "    }\n",
       "\n",
       "    .dataframe thead th {\n",
       "        text-align: right;\n",
       "    }\n",
       "</style>\n",
       "<table border=\"1\" class=\"dataframe\">\n",
       "  <thead>\n",
       "    <tr style=\"text-align: right;\">\n",
       "      <th></th>\n",
       "      <th>mean radius</th>\n",
       "      <th>mean texture</th>\n",
       "      <th>mean perimeter</th>\n",
       "      <th>mean area</th>\n",
       "      <th>mean smoothness</th>\n",
       "      <th>mean compactness</th>\n",
       "      <th>mean concavity</th>\n",
       "      <th>mean concave points</th>\n",
       "      <th>mean symmetry</th>\n",
       "      <th>mean fractal dimension</th>\n",
       "      <th>...</th>\n",
       "      <th>worst radius</th>\n",
       "      <th>worst texture</th>\n",
       "      <th>worst perimeter</th>\n",
       "      <th>worst area</th>\n",
       "      <th>worst smoothness</th>\n",
       "      <th>worst compactness</th>\n",
       "      <th>worst concavity</th>\n",
       "      <th>worst concave points</th>\n",
       "      <th>worst symmetry</th>\n",
       "      <th>worst fractal dimension</th>\n",
       "    </tr>\n",
       "  </thead>\n",
       "  <tbody>\n",
       "    <tr>\n",
       "      <th>0</th>\n",
       "      <td>17.99</td>\n",
       "      <td>10.38</td>\n",
       "      <td>122.80</td>\n",
       "      <td>1001.0</td>\n",
       "      <td>0.11840</td>\n",
       "      <td>0.27760</td>\n",
       "      <td>0.3001</td>\n",
       "      <td>0.14710</td>\n",
       "      <td>0.2419</td>\n",
       "      <td>0.07871</td>\n",
       "      <td>...</td>\n",
       "      <td>25.38</td>\n",
       "      <td>17.33</td>\n",
       "      <td>184.60</td>\n",
       "      <td>2019.0</td>\n",
       "      <td>0.1622</td>\n",
       "      <td>0.6656</td>\n",
       "      <td>0.7119</td>\n",
       "      <td>0.2654</td>\n",
       "      <td>0.4601</td>\n",
       "      <td>0.11890</td>\n",
       "    </tr>\n",
       "    <tr>\n",
       "      <th>1</th>\n",
       "      <td>20.57</td>\n",
       "      <td>17.77</td>\n",
       "      <td>132.90</td>\n",
       "      <td>1326.0</td>\n",
       "      <td>0.08474</td>\n",
       "      <td>0.07864</td>\n",
       "      <td>0.0869</td>\n",
       "      <td>0.07017</td>\n",
       "      <td>0.1812</td>\n",
       "      <td>0.05667</td>\n",
       "      <td>...</td>\n",
       "      <td>24.99</td>\n",
       "      <td>23.41</td>\n",
       "      <td>158.80</td>\n",
       "      <td>1956.0</td>\n",
       "      <td>0.1238</td>\n",
       "      <td>0.1866</td>\n",
       "      <td>0.2416</td>\n",
       "      <td>0.1860</td>\n",
       "      <td>0.2750</td>\n",
       "      <td>0.08902</td>\n",
       "    </tr>\n",
       "    <tr>\n",
       "      <th>2</th>\n",
       "      <td>19.69</td>\n",
       "      <td>21.25</td>\n",
       "      <td>130.00</td>\n",
       "      <td>1203.0</td>\n",
       "      <td>0.10960</td>\n",
       "      <td>0.15990</td>\n",
       "      <td>0.1974</td>\n",
       "      <td>0.12790</td>\n",
       "      <td>0.2069</td>\n",
       "      <td>0.05999</td>\n",
       "      <td>...</td>\n",
       "      <td>23.57</td>\n",
       "      <td>25.53</td>\n",
       "      <td>152.50</td>\n",
       "      <td>1709.0</td>\n",
       "      <td>0.1444</td>\n",
       "      <td>0.4245</td>\n",
       "      <td>0.4504</td>\n",
       "      <td>0.2430</td>\n",
       "      <td>0.3613</td>\n",
       "      <td>0.08758</td>\n",
       "    </tr>\n",
       "    <tr>\n",
       "      <th>3</th>\n",
       "      <td>11.42</td>\n",
       "      <td>20.38</td>\n",
       "      <td>77.58</td>\n",
       "      <td>386.1</td>\n",
       "      <td>0.14250</td>\n",
       "      <td>0.28390</td>\n",
       "      <td>0.2414</td>\n",
       "      <td>0.10520</td>\n",
       "      <td>0.2597</td>\n",
       "      <td>0.09744</td>\n",
       "      <td>...</td>\n",
       "      <td>14.91</td>\n",
       "      <td>26.50</td>\n",
       "      <td>98.87</td>\n",
       "      <td>567.7</td>\n",
       "      <td>0.2098</td>\n",
       "      <td>0.8663</td>\n",
       "      <td>0.6869</td>\n",
       "      <td>0.2575</td>\n",
       "      <td>0.6638</td>\n",
       "      <td>0.17300</td>\n",
       "    </tr>\n",
       "    <tr>\n",
       "      <th>4</th>\n",
       "      <td>20.29</td>\n",
       "      <td>14.34</td>\n",
       "      <td>135.10</td>\n",
       "      <td>1297.0</td>\n",
       "      <td>0.10030</td>\n",
       "      <td>0.13280</td>\n",
       "      <td>0.1980</td>\n",
       "      <td>0.10430</td>\n",
       "      <td>0.1809</td>\n",
       "      <td>0.05883</td>\n",
       "      <td>...</td>\n",
       "      <td>22.54</td>\n",
       "      <td>16.67</td>\n",
       "      <td>152.20</td>\n",
       "      <td>1575.0</td>\n",
       "      <td>0.1374</td>\n",
       "      <td>0.2050</td>\n",
       "      <td>0.4000</td>\n",
       "      <td>0.1625</td>\n",
       "      <td>0.2364</td>\n",
       "      <td>0.07678</td>\n",
       "    </tr>\n",
       "  </tbody>\n",
       "</table>\n",
       "<p>5 rows × 30 columns</p>\n",
       "</div>"
      ],
      "text/plain": [
       "   mean radius  mean texture  mean perimeter  mean area  mean smoothness  \\\n",
       "0        17.99         10.38          122.80     1001.0          0.11840   \n",
       "1        20.57         17.77          132.90     1326.0          0.08474   \n",
       "2        19.69         21.25          130.00     1203.0          0.10960   \n",
       "3        11.42         20.38           77.58      386.1          0.14250   \n",
       "4        20.29         14.34          135.10     1297.0          0.10030   \n",
       "\n",
       "   mean compactness  mean concavity  mean concave points  mean symmetry  \\\n",
       "0           0.27760          0.3001              0.14710         0.2419   \n",
       "1           0.07864          0.0869              0.07017         0.1812   \n",
       "2           0.15990          0.1974              0.12790         0.2069   \n",
       "3           0.28390          0.2414              0.10520         0.2597   \n",
       "4           0.13280          0.1980              0.10430         0.1809   \n",
       "\n",
       "   mean fractal dimension  ...  worst radius  worst texture  worst perimeter  \\\n",
       "0                 0.07871  ...         25.38          17.33           184.60   \n",
       "1                 0.05667  ...         24.99          23.41           158.80   \n",
       "2                 0.05999  ...         23.57          25.53           152.50   \n",
       "3                 0.09744  ...         14.91          26.50            98.87   \n",
       "4                 0.05883  ...         22.54          16.67           152.20   \n",
       "\n",
       "   worst area  worst smoothness  worst compactness  worst concavity  \\\n",
       "0      2019.0            0.1622             0.6656           0.7119   \n",
       "1      1956.0            0.1238             0.1866           0.2416   \n",
       "2      1709.0            0.1444             0.4245           0.4504   \n",
       "3       567.7            0.2098             0.8663           0.6869   \n",
       "4      1575.0            0.1374             0.2050           0.4000   \n",
       "\n",
       "   worst concave points  worst symmetry  worst fractal dimension  \n",
       "0                0.2654          0.4601                  0.11890  \n",
       "1                0.1860          0.2750                  0.08902  \n",
       "2                0.2430          0.3613                  0.08758  \n",
       "3                0.2575          0.6638                  0.17300  \n",
       "4                0.1625          0.2364                  0.07678  \n",
       "\n",
       "[5 rows x 30 columns]"
      ]
     },
     "execution_count": 418,
     "metadata": {},
     "output_type": "execute_result"
    }
   ],
   "source": [
    "df_breast_cancer.head()"
   ]
  },
  {
   "cell_type": "code",
   "execution_count": 420,
   "metadata": {},
   "outputs": [
    {
     "ename": "TypeError",
     "evalue": "DecisionTree.fit() got an unexpected keyword argument 'num_features'",
     "output_type": "error",
     "traceback": [
      "\u001b[0;31m---------------------------------------------------------------------------\u001b[0m",
      "\u001b[0;31mTypeError\u001b[0m                                 Traceback (most recent call last)",
      "Cell \u001b[0;32mIn[420], line 3\u001b[0m\n\u001b[1;32m      1\u001b[0m \u001b[38;5;66;03m# Build the decision tree\u001b[39;00m\n\u001b[1;32m      2\u001b[0m DT \u001b[38;5;241m=\u001b[39m DecisionTree()\n\u001b[0;32m----> 3\u001b[0m custom_tree \u001b[38;5;241m=\u001b[39m \u001b[43mDT\u001b[49m\u001b[38;5;241;43m.\u001b[39;49m\u001b[43mfit\u001b[49m\u001b[43m(\u001b[49m\u001b[43marr_features\u001b[49m\u001b[43m,\u001b[49m\u001b[43m \u001b[49m\u001b[43marr_target\u001b[49m\u001b[43m,\u001b[49m\u001b[43m \u001b[49m\u001b[43mmax_depth\u001b[49m\u001b[38;5;241;43m=\u001b[39;49m\u001b[38;5;241;43m20\u001b[39;49m\u001b[43m,\u001b[49m\u001b[43m \u001b[49m\u001b[43mnum_features\u001b[49m\u001b[38;5;241;43m=\u001b[39;49m\u001b[38;5;241;43m1\u001b[39;49m\u001b[43m)\u001b[49m\n\u001b[1;32m      4\u001b[0m depth \u001b[38;5;241m=\u001b[39m count_depth(custom_tree)\n\u001b[1;32m      5\u001b[0m depth\n",
      "\u001b[0;31mTypeError\u001b[0m: DecisionTree.fit() got an unexpected keyword argument 'num_features'"
     ]
    }
   ],
   "source": [
    "# Build the decision tree\n",
    "DT = DecisionTree()\n",
    "custom_tree = DT.fit(arr_features, arr_target, max_depth=20, num_features=1)\n",
    "depth = count_depth(custom_tree)\n",
    "depth"
   ]
  },
  {
   "cell_type": "code",
   "execution_count": 414,
   "metadata": {},
   "outputs": [
    {
     "data": {
      "text/plain": [
       "{'leaf_node': 0,\n",
       " 'feature': 22,\n",
       " 'threshold': np.float64(105.95),\n",
       " 'entropy': np.float64(0.9526351224018599),\n",
       " 'information_gain': 10000,\n",
       " 'left': {'leaf_node': 0,\n",
       "  'feature': 22,\n",
       "  'threshold': np.float64(117.45),\n",
       "  'entropy': np.float64(0.5559671540224538),\n",
       "  'information_gain': np.float64(0.23221044923081013),\n",
       "  'left': {'leaf_node': 0,\n",
       "   'feature': 19,\n",
       "   'threshold': np.float64(0.001547),\n",
       "   'entropy': np.float64(0.09362545803956356),\n",
       "   'information_gain': np.float64(0.07712912569127928),\n",
       "   'left': {'leaf_node': 1,\n",
       "    'entopy': 0,\n",
       "    'parent_entropy': 0,\n",
       "    'weighted_entropy': 0.0,\n",
       "    'information_gain': 0.0,\n",
       "    'class_perc': np.float64(0.0),\n",
       "    'samples': 164,\n",
       "    'class': np.int64(0)},\n",
       "   'right': {'leaf_node': 0,\n",
       "    'feature': 0,\n",
       "    'threshold': np.float64(18.08),\n",
       "    'entropy': np.float64(0.9182958340544896),\n",
       "    'information_gain': np.float64(0.9182958340544896),\n",
       "    'left': {'leaf_node': 1,\n",
       "     'entopy': 0,\n",
       "     'parent_entropy': 0,\n",
       "     'weighted_entropy': 10000000,\n",
       "     'information_gain': -10000000,\n",
       "     'class_perc': np.float64(0.0),\n",
       "     'samples': 1,\n",
       "     'class': np.int64(0)},\n",
       "    'right': {'leaf_node': 1,\n",
       "     'entopy': 0,\n",
       "     'parent_entropy': 0,\n",
       "     'weighted_entropy': 0.0,\n",
       "     'information_gain': 0.0,\n",
       "     'class_perc': np.float64(1.0),\n",
       "     'samples': 2,\n",
       "     'class': np.int64(1)},\n",
       "    'samples': 3},\n",
       "   'samples': 167},\n",
       "  'right': {'leaf_node': 0,\n",
       "   'feature': 24,\n",
       "   'threshold': np.float64(0.1361),\n",
       "   'entropy': np.float64(0.9980008838722995),\n",
       "   'information_gain': np.float64(0.4243739836945116),\n",
       "   'left': {'leaf_node': 0,\n",
       "    'feature': 1,\n",
       "    'threshold': np.float64(13.42),\n",
       "    'entropy': np.float64(0.2580186686648155),\n",
       "    'information_gain': np.float64(0.2580186686648155),\n",
       "    'left': {'leaf_node': 1,\n",
       "     'entopy': 0,\n",
       "     'parent_entropy': 0,\n",
       "     'weighted_entropy': 0.0,\n",
       "     'information_gain': 0.0,\n",
       "     'class_perc': np.float64(0.0),\n",
       "     'samples': 22,\n",
       "     'class': np.int64(0)},\n",
       "    'right': {'leaf_node': 1,\n",
       "     'entopy': 0,\n",
       "     'parent_entropy': 0,\n",
       "     'weighted_entropy': 10000000,\n",
       "     'information_gain': -10000000,\n",
       "     'class_perc': np.float64(1.0),\n",
       "     'samples': 1,\n",
       "     'class': np.int64(1)},\n",
       "    'samples': 23},\n",
       "   'right': {'leaf_node': 0,\n",
       "    'feature': 21,\n",
       "    'threshold': np.float64(25.67),\n",
       "    'entropy': np.float64(0.7871265862012691),\n",
       "    'information_gain': np.float64(0.3814444125401067),\n",
       "    'left': {'leaf_node': 0,\n",
       "     'feature': 0,\n",
       "     'threshold': np.float64(15.02),\n",
       "     'entropy': np.float64(0.9852281360342515),\n",
       "     'information_gain': np.float64(0.5216406363433185),\n",
       "     'left': {'leaf_node': 1,\n",
       "      'entopy': 0,\n",
       "      'parent_entropy': 0,\n",
       "      'weighted_entropy': 0.0,\n",
       "      'information_gain': 0.0,\n",
       "      'class_perc': np.float64(0.0),\n",
       "      'samples': 6,\n",
       "      'class': np.int64(0)},\n",
       "     'right': {'leaf_node': 0,\n",
       "      'feature': 4,\n",
       "      'threshold': np.float64(0.09218),\n",
       "      'entropy': np.float64(0.8112781244591328),\n",
       "      'information_gain': np.float64(0.8112781244591328),\n",
       "      'left': {'leaf_node': 1,\n",
       "       'entopy': 0,\n",
       "       'parent_entropy': 0,\n",
       "       'weighted_entropy': 0.0,\n",
       "       'information_gain': 0.0,\n",
       "       'class_perc': np.float64(0.0),\n",
       "       'samples': 2,\n",
       "       'class': np.int64(0)},\n",
       "      'right': {'leaf_node': 1,\n",
       "       'entopy': 0,\n",
       "       'parent_entropy': 0,\n",
       "       'weighted_entropy': 0.0,\n",
       "       'information_gain': 0.0,\n",
       "       'class_perc': np.float64(1.0),\n",
       "       'samples': 6,\n",
       "       'class': np.int64(1)},\n",
       "      'samples': 8},\n",
       "     'samples': 14},\n",
       "    'right': {'leaf_node': 1,\n",
       "     'entopy': 0,\n",
       "     'parent_entropy': 0,\n",
       "     'weighted_entropy': 0.0,\n",
       "     'information_gain': 0.0,\n",
       "     'class_perc': np.float64(1.0),\n",
       "     'samples': 20,\n",
       "     'class': np.int64(1)},\n",
       "    'samples': 34},\n",
       "   'samples': 57},\n",
       "  'samples': 224},\n",
       " 'right': {'leaf_node': 0,\n",
       "  'feature': 27,\n",
       "  'threshold': np.float64(0.13505),\n",
       "  'entropy': np.float64(0.283310737706148),\n",
       "  'information_gain': np.float64(0.12101099179347735),\n",
       "  'left': {'leaf_node': 0,\n",
       "   'feature': 21,\n",
       "   'threshold': np.float64(27.575),\n",
       "   'entropy': np.float64(0.9988455359952018),\n",
       "   'information_gain': np.float64(0.4796275363413567),\n",
       "   'left': {'leaf_node': 1,\n",
       "    'entopy': 0,\n",
       "    'parent_entropy': 0,\n",
       "    'weighted_entropy': 0.0,\n",
       "    'information_gain': 0.0,\n",
       "    'class_perc': np.float64(0.0),\n",
       "    'samples': 9,\n",
       "    'class': np.int64(0)},\n",
       "   'right': {'leaf_node': 0,\n",
       "    'feature': 28,\n",
       "    'threshold': np.float64(0.35785),\n",
       "    'entropy': np.float64(0.8112781244591328),\n",
       "    'information_gain': np.float64(0.5856755948068322),\n",
       "    'left': {'leaf_node': 0,\n",
       "     'feature': 0,\n",
       "     'threshold': np.float64(10.224499999999999),\n",
       "     'entropy': np.float64(0.7219280948873623),\n",
       "     'information_gain': np.float64(0.7219280948873623),\n",
       "     'left': {'leaf_node': 1,\n",
       "      'entopy': 0,\n",
       "      'parent_entropy': 0,\n",
       "      'weighted_entropy': 0.0,\n",
       "      'information_gain': 0.0,\n",
       "      'class_perc': np.float64(0.0),\n",
       "      'samples': 4,\n",
       "      'class': np.int64(0)},\n",
       "     'right': {'leaf_node': 1,\n",
       "      'entopy': 0,\n",
       "      'parent_entropy': 0,\n",
       "      'weighted_entropy': 10000000,\n",
       "      'information_gain': -10000000,\n",
       "      'class_perc': np.float64(1.0),\n",
       "      'samples': 1,\n",
       "      'class': np.int64(1)},\n",
       "     'samples': 5},\n",
       "    'right': {'leaf_node': 1,\n",
       "     'entopy': 0,\n",
       "     'parent_entropy': 0,\n",
       "     'weighted_entropy': 0.0,\n",
       "     'information_gain': 0.0,\n",
       "     'class_perc': np.float64(1.0),\n",
       "     'samples': 11,\n",
       "     'class': np.int64(1)},\n",
       "    'samples': 16},\n",
       "   'samples': 25},\n",
       "  'right': {'leaf_node': 0,\n",
       "   'feature': 13,\n",
       "   'threshold': np.float64(48.975),\n",
       "   'entropy': np.float64(0.09694460606247293),\n",
       "   'information_gain': np.float64(0.029807727087492547),\n",
       "   'left': {'leaf_node': 0,\n",
       "    'feature': 4,\n",
       "    'threshold': np.float64(0.09072),\n",
       "    'entropy': np.float64(1.0),\n",
       "    'information_gain': np.float64(1.0),\n",
       "    'left': {'leaf_node': 1,\n",
       "     'entopy': 0,\n",
       "     'parent_entropy': 0,\n",
       "     'weighted_entropy': 0.0,\n",
       "     'information_gain': 0.0,\n",
       "     'class_perc': np.float64(0.0),\n",
       "     'samples': 2,\n",
       "     'class': np.int64(0)},\n",
       "    'right': {'leaf_node': 1,\n",
       "     'entopy': 0,\n",
       "     'parent_entropy': 0,\n",
       "     'weighted_entropy': 0.0,\n",
       "     'information_gain': 0.0,\n",
       "     'class_perc': np.float64(1.0),\n",
       "     'samples': 2,\n",
       "     'class': np.int64(1)},\n",
       "    'samples': 4},\n",
       "   'right': {'leaf_node': 0,\n",
       "    'feature': 21,\n",
       "    'threshold': np.float64(30.145),\n",
       "    'entropy': np.float64(0.05532848503795482),\n",
       "    'information_gain': np.float64(0.018618966173355296),\n",
       "    'left': {'leaf_node': 0,\n",
       "     'feature': 11,\n",
       "     'threshold': np.float64(0.8596),\n",
       "     'entropy': np.float64(0.27619542764793925),\n",
       "     'information_gain': np.float64(0.1147071325563454),\n",
       "     'left': {'leaf_node': 0,\n",
       "      'feature': 20,\n",
       "      'threshold': np.float64(14.43),\n",
       "      'entropy': np.float64(0.16542703399626688),\n",
       "      'information_gain': np.float64(0.05936567922561392),\n",
       "      'left': {'leaf_node': 0,\n",
       "       'feature': 0,\n",
       "       'threshold': np.float64(13.075),\n",
       "       'entropy': np.float64(0.5435644431995964),\n",
       "       'information_gain': np.float64(0.5435644431995964),\n",
       "       'left': {'leaf_node': 1,\n",
       "        'entopy': 0,\n",
       "        'parent_entropy': 0,\n",
       "        'weighted_entropy': 0.0,\n",
       "        'information_gain': 0.0,\n",
       "        'class_perc': np.float64(1.0),\n",
       "        'samples': 7,\n",
       "        'class': np.int64(1)},\n",
       "       'right': {'leaf_node': 1,\n",
       "        'entopy': 0,\n",
       "        'parent_entropy': 0,\n",
       "        'weighted_entropy': 10000000,\n",
       "        'information_gain': -10000000,\n",
       "        'class_perc': np.float64(0.0),\n",
       "        'samples': 1,\n",
       "        'class': np.int64(0)},\n",
       "       'samples': 8},\n",
       "      'right': {'leaf_node': 1,\n",
       "       'entopy': 0,\n",
       "       'parent_entropy': 0,\n",
       "       'weighted_entropy': 0.0,\n",
       "       'information_gain': 0.0,\n",
       "       'class_perc': np.float64(1.0),\n",
       "       'samples': 33,\n",
       "       'class': np.int64(1)},\n",
       "      'samples': 41},\n",
       "     'right': {'leaf_node': 1,\n",
       "      'entopy': 0,\n",
       "      'parent_entropy': 0,\n",
       "      'weighted_entropy': 10000000,\n",
       "      'information_gain': -10000000,\n",
       "      'class_perc': np.float64(0.0),\n",
       "      'samples': 1,\n",
       "      'class': np.int64(0)},\n",
       "     'samples': 42},\n",
       "    'right': {'leaf_node': 1,\n",
       "     'entopy': 0,\n",
       "     'parent_entropy': 0,\n",
       "     'weighted_entropy': 0.0,\n",
       "     'information_gain': 0.0,\n",
       "     'class_perc': np.float64(1.0),\n",
       "     'samples': 274,\n",
       "     'class': np.int64(1)},\n",
       "    'samples': 316},\n",
       "   'samples': 320},\n",
       "  'samples': 345},\n",
       " 'samples': 569}"
      ]
     },
     "execution_count": 414,
     "metadata": {},
     "output_type": "execute_result"
    }
   ],
   "source": [
    "custom_tree"
   ]
  },
  {
   "cell_type": "code",
   "execution_count": 260,
   "metadata": {},
   "outputs": [
    {
     "data": {
      "text/plain": [
       "{'leaf_node': 0,\n",
       " 'feature': 22,\n",
       " 'threshold': np.float64(105.95),\n",
       " 'entropy': np.float64(0.9526351224018599),\n",
       " 'information_gain': 10000,\n",
       " 'left': {'leaf_node': 0,\n",
       "  'feature': 22,\n",
       "  'threshold': np.float64(117.45),\n",
       "  'entropy': np.float64(0.5559671540224538),\n",
       "  'information_gain': np.float64(0.6288784176102162),\n",
       "  'left': {'leaf_node': 0,\n",
       "   'feature': 19,\n",
       "   'threshold': np.float64(0.001547),\n",
       "   'entropy': np.float64(0.09362545803956356),\n",
       "   'information_gain': np.float64(0.5394708216741695),\n",
       "   'left': {'leaf_node': 0,\n",
       "    'feature': 0,\n",
       "    'threshold': np.float64(12.825),\n",
       "    'entropy': 0,\n",
       "    'information_gain': np.float64(0.09362545803956356),\n",
       "    'left': {'leaf_node': 1,\n",
       "     'entopy': 0,\n",
       "     'information_gain': 0.0,\n",
       "     'class_perc': np.float64(0.0),\n",
       "     'samples': 163,\n",
       "     'class': np.int64(0)},\n",
       "    'right': {'leaf_node': 1,\n",
       "     'entopy': 0,\n",
       "     'information_gain': -10000000,\n",
       "     'class_perc': np.float64(0.0),\n",
       "     'samples': 1,\n",
       "     'class': np.int64(0)},\n",
       "    'samples': 164},\n",
       "   'right': {'leaf_node': 0,\n",
       "    'feature': 0,\n",
       "    'threshold': np.float64(18.08),\n",
       "    'entropy': np.float64(0.9182958340544896),\n",
       "    'information_gain': np.float64(0.09362545803956356),\n",
       "    'left': {'leaf_node': 1,\n",
       "     'entopy': 0,\n",
       "     'information_gain': np.float64(-9999999.081704166),\n",
       "     'class_perc': np.float64(0.0),\n",
       "     'samples': 1,\n",
       "     'class': np.int64(0)},\n",
       "    'right': {'leaf_node': 0,\n",
       "     'feature': 0,\n",
       "     'threshold': np.float64(17.345),\n",
       "     'entropy': 0,\n",
       "     'information_gain': np.float64(0.9182958340544896),\n",
       "     'left': {'leaf_node': 1,\n",
       "      'entopy': 0,\n",
       "      'information_gain': -10000000,\n",
       "      'class_perc': np.float64(1.0),\n",
       "      'samples': 1,\n",
       "      'class': np.int64(1)},\n",
       "     'right': {'leaf_node': 1,\n",
       "      'entopy': 0,\n",
       "      'information_gain': -10000000,\n",
       "      'class_perc': np.float64(1.0),\n",
       "      'samples': 1,\n",
       "      'class': np.int64(1)},\n",
       "     'samples': 2},\n",
       "    'samples': 3},\n",
       "   'samples': 167},\n",
       "  'right': {'leaf_node': 1,\n",
       "   'entopy': np.float64(0.9980008838722995),\n",
       "   'information_gain': np.float64(-0.017659746155334055),\n",
       "   'class_perc': np.float64(0.47368421052631576),\n",
       "   'samples': 57,\n",
       "   'class': np.int64(0)},\n",
       "  'samples': 224},\n",
       " 'right': {'leaf_node': 0,\n",
       "  'feature': 27,\n",
       "  'threshold': np.float64(0.13505),\n",
       "  'entropy': np.float64(0.283310737706148),\n",
       "  'information_gain': np.float64(0.7903353764891892),\n",
       "  'left': {'leaf_node': 1,\n",
       "   'entopy': np.float64(0.9988455359952018),\n",
       "   'information_gain': np.float64(-0.23590726194769707),\n",
       "   'class_perc': np.float64(0.48),\n",
       "   'samples': 25,\n",
       "   'class': np.int64(0)},\n",
       "  'right': {'leaf_node': 0,\n",
       "   'feature': 13,\n",
       "   'threshold': np.float64(48.975),\n",
       "   'entropy': np.float64(0.09694460606247293),\n",
       "   'information_gain': np.float64(0.21617385873116762),\n",
       "   'left': {'leaf_node': 0,\n",
       "    'feature': 4,\n",
       "    'threshold': np.float64(0.09072),\n",
       "    'entropy': np.float64(1.0),\n",
       "    'information_gain': np.float64(0.09694460606247293),\n",
       "    'left': {'leaf_node': 0,\n",
       "     'feature': 0,\n",
       "     'threshold': np.float64(13.375),\n",
       "     'entropy': 0,\n",
       "     'information_gain': np.float64(1.0),\n",
       "     'left': {'leaf_node': 1,\n",
       "      'entopy': 0,\n",
       "      'information_gain': -10000000,\n",
       "      'class_perc': np.float64(0.0),\n",
       "      'samples': 1,\n",
       "      'class': np.int64(0)},\n",
       "     'right': {'leaf_node': 1,\n",
       "      'entopy': 0,\n",
       "      'information_gain': -10000000,\n",
       "      'class_perc': np.float64(0.0),\n",
       "      'samples': 1,\n",
       "      'class': np.int64(0)},\n",
       "     'samples': 2},\n",
       "    'right': {'leaf_node': 0,\n",
       "     'feature': 0,\n",
       "     'threshold': np.float64(13.59),\n",
       "     'entropy': 0,\n",
       "     'information_gain': np.float64(1.0),\n",
       "     'left': {'leaf_node': 1,\n",
       "      'entopy': 0,\n",
       "      'information_gain': -10000000,\n",
       "      'class_perc': np.float64(1.0),\n",
       "      'samples': 1,\n",
       "      'class': np.int64(1)},\n",
       "     'right': {'leaf_node': 1,\n",
       "      'entopy': 0,\n",
       "      'information_gain': -10000000,\n",
       "      'class_perc': np.float64(1.0),\n",
       "      'samples': 1,\n",
       "      'class': np.int64(1)},\n",
       "     'samples': 2},\n",
       "    'samples': 4},\n",
       "   'right': {'leaf_node': 0,\n",
       "    'feature': 21,\n",
       "    'threshold': np.float64(30.145),\n",
       "    'entropy': np.float64(0.05532848503795482),\n",
       "    'information_gain': np.float64(0.06023508719787341),\n",
       "    'left': {'leaf_node': 1,\n",
       "     'entopy': np.float64(0.27619542764793925),\n",
       "     'information_gain': np.float64(-0.10615981005363903),\n",
       "     'class_perc': np.float64(0.9523809523809523),\n",
       "     'samples': 42,\n",
       "     'class': np.int64(1)},\n",
       "    'right': {'leaf_node': 0,\n",
       "     'feature': 0,\n",
       "     'threshold': np.float64(7.5885),\n",
       "     'entropy': 0,\n",
       "     'information_gain': np.float64(0.05532848503795482),\n",
       "     'left': {'leaf_node': 1,\n",
       "      'entopy': 0,\n",
       "      'information_gain': 0.0,\n",
       "      'class_perc': np.float64(1.0),\n",
       "      'samples': 273,\n",
       "      'class': np.int64(1)},\n",
       "     'right': {'leaf_node': 1,\n",
       "      'entopy': 0,\n",
       "      'information_gain': -10000000,\n",
       "      'class_perc': np.float64(1.0),\n",
       "      'samples': 1,\n",
       "      'class': np.int64(1)},\n",
       "     'samples': 274},\n",
       "    'samples': 316},\n",
       "   'samples': 320},\n",
       "  'samples': 345},\n",
       " 'samples': 569}"
      ]
     },
     "execution_count": 260,
     "metadata": {},
     "output_type": "execute_result"
    }
   ],
   "source": [
    "custom_tree"
   ]
  },
  {
   "cell_type": "code",
   "execution_count": 237,
   "metadata": {},
   "outputs": [],
   "source": [
    "custom_tree"
   ]
  },
  {
   "cell_type": "code",
   "execution_count": 220,
   "metadata": {},
   "outputs": [],
   "source": [
    "custom_tree\n",
    "# 0.35785"
   ]
  },
  {
   "cell_type": "code",
   "execution_count": 358,
   "metadata": {},
   "outputs": [
    {
     "name": "stdout",
     "output_type": "stream",
     "text": [
      "0\n"
     ]
    }
   ],
   "source": [
    "predictions = predict(arr_features, custom_tree)\n",
    "# number of misclassifications\n",
    "print(len(arr_target) - sum(predictions == arr_target))"
   ]
  },
  {
   "cell_type": "code",
   "execution_count": null,
   "metadata": {},
   "outputs": [],
   "source": [
    "\n",
    "# row 68 is the first row that is not predicted correctly\n",
    "a = 0\n",
    "for bool in predictions == arr_target:\n",
    "    a += 1\n",
    "    if bool == False:\n",
    "        print(a)\n",
    "        break \n",
    "arr_features[68,:]"
   ]
  },
  {
   "cell_type": "code",
   "execution_count": null,
   "metadata": {},
   "outputs": [
    {
     "data": {
      "image/png": "[encoded data removed]",
      "text/plain": [
       "<Figure size 1200x800 with 1 Axes>"
      ]
     },
     "metadata": {},
     "output_type": "display_data"
    },
    {
     "name": "stdout",
     "output_type": "stream",
     "text": [
      "7\n"
     ]
    }
   ],
   "source": [
    "# plot of sklearn decision tree\n",
    "\n",
    "import matplotlib.pyplot as plt\n",
    "from sklearn import tree\n",
    "\n",
    "# Create a decision tree classifier\n",
    "clf = DecisionTreeClassifier(criterion='entropy')\n",
    "\n",
    "# Train the classifier\n",
    "clf.fit(arr_features, arr_target)\n",
    "\n",
    "\n",
    "# Visualize the decision tree\n",
    "plt.figure(figsize=(12, 8))\n",
    "tree.plot_tree(clf)\n",
    "plt.show()\n",
    "print(clf.get_depth())"
   ]
  },
  {
   "cell_type": "code",
   "execution_count": 454,
   "metadata": {},
   "outputs": [
    {
     "name": "stdout",
     "output_type": "stream",
     "text": [
      "0.8260105448154658\n",
      "misclassifications:  99\n"
     ]
    },
    {
     "data": {
      "image/png": "[encoded data removed]",
      "text/plain": [
       "<Figure size 1200x800 with 1 Axes>"
      ]
     },
     "metadata": {},
     "output_type": "display_data"
    },
    {
     "name": "stdout",
     "output_type": "stream",
     "text": [
      "1\n"
     ]
    }
   ],
   "source": [
    "clf = DecisionTreeClassifier(criterion=\"entropy\", max_depth = 1, max_features=1)\n",
    "# Train the classifier\n",
    "clf.fit(arr_features, arr_target)\n",
    "# accuracy of sklearn decision tree\n",
    "print(sum(clf.predict(arr_features)==arr_target)/len(arr_target))\n",
    "print(\n",
    "    \"misclassifications: \",\n",
    "    len(arr_target) - sum(clf.predict(arr_features) == arr_target),\n",
    ")\n",
    "\n",
    "# Visualize the decision tree\n",
    "plt.figure(figsize=(12, 8))\n",
    "tree.plot_tree(clf)\n",
    "plt.show()\n",
    "print(clf.get_depth())"
   ]
  },
  {
   "cell_type": "code",
   "execution_count": 452,
   "metadata": {},
   "outputs": [
    {
     "data": {
      "text/plain": [
       "np.float64(0.6274165202108963)"
      ]
     },
     "execution_count": 452,
     "metadata": {},
     "output_type": "execute_result"
    }
   ],
   "source": [
    "sum(clf.predict(arr_features) == arr_target) / len(arr_target)"
   ]
  },
  {
   "cell_type": "code",
   "execution_count": null,
   "metadata": {},
   "outputs": [
    {
     "data": {
      "text/plain": [
       "569"
      ]
     },
     "execution_count": 447,
     "metadata": {},
     "output_type": "execute_result"
    }
   ],
   "source": []
  },
  {
   "cell_type": "markdown",
   "metadata": {},
   "source": [
    "# Investigate Misclassifications"
   ]
  },
  {
   "cell_type": "code",
   "execution_count": 188,
   "metadata": {},
   "outputs": [],
   "source": [
    "custom_tree"
   ]
  },
  {
   "cell_type": "code",
   "execution_count": 201,
   "metadata": {},
   "outputs": [],
   "source": [
    "arr_target[68]"
   ]
  },
  {
   "cell_type": "code",
   "execution_count": 254,
   "metadata": {},
   "outputs": [
    {
     "name": "stdout",
     "output_type": "stream",
     "text": [
      "right  :  22 105.95 0\n",
      "left  :  27 0.13505 0\n",
      "right  :  21 27.575 0\n",
      "left  :  28 0.35785 1 0\n"
     ]
    }
   ],
   "source": [
    "# loop through dictionary\n",
    "copy_tree = custom_tree.copy()\n",
    "sample = arr_features[68].reshape(1, -1)\n",
    "feature = copy_tree[\"feature\"]\n",
    "threshold = copy_tree[\"threshold\"]\n",
    "leaf_node = 0\n",
    "while leaf_node == 0:\n",
    "    if sample[0, feature] > threshold:\n",
    "        copy_tree = copy_tree[\"left\"]\n",
    "        direction = 'left'\n",
    "    else:\n",
    "        copy_tree = copy_tree[\"right\"]\n",
    "        direction = \"right\"\n",
    "\n",
    "    leaf_node = copy_tree[\"leaf_node\"]\n",
    "    if leaf_node == 1:\n",
    "        print(direction, \" : \", feature, threshold, leaf_node, copy_tree['class'])\n",
    "        break\n",
    "\n",
    "    print(direction, \" : \", feature, threshold, leaf_node)\n",
    "    feature = copy_tree[\"feature\"]\n",
    "    threshold = copy_tree[\"threshold\"]"
   ]
  },
  {
   "cell_type": "code",
   "execution_count": 271,
   "metadata": {},
   "outputs": [
    {
     "name": "stdout",
     "output_type": "stream",
     "text": [
      "right  :  22 105.95 0\n",
      "left  :  27 0.13505 0\n",
      "right  :  21 27.575 0\n",
      "left  :  28 0.35785 0\n",
      "right  :  0 10.224499999999999 1 1\n"
     ]
    }
   ],
   "source": [
    "# loop through dictionary\n",
    "copy_tree = custom_tree.copy()\n",
    "sample = arr_features[68].reshape(1, -1)\n",
    "feature = copy_tree[\"feature\"]\n",
    "threshold = copy_tree[\"threshold\"]\n",
    "leaf_node = 0\n",
    "while leaf_node == 0:\n",
    "    if sample[0, feature] > threshold:\n",
    "        copy_tree = copy_tree[\"left\"]\n",
    "        direction = \"left\"\n",
    "    else:\n",
    "        copy_tree = copy_tree[\"right\"]\n",
    "        direction = \"right\"\n",
    "\n",
    "    leaf_node = copy_tree[\"leaf_node\"]\n",
    "    if leaf_node == 1:\n",
    "        print(direction, \" : \", feature, threshold, leaf_node, copy_tree[\"class\"])\n",
    "        break\n",
    "\n",
    "    print(direction, \" : \", feature, threshold, leaf_node)\n",
    "    feature = copy_tree[\"feature\"]\n",
    "    threshold = copy_tree[\"threshold\"]"
   ]
  },
  {
   "cell_type": "code",
   "execution_count": 272,
   "metadata": {},
   "outputs": [
    {
     "name": "stdout",
     "output_type": "stream",
     "text": [
      "Decision path for the sample:\n",
      "Node 0: X[:, 22] <= 105.95000076293945\n",
      "Node 1: X[:, 27] <= 0.13505000621080399\n",
      "Node 15: X[:, 21] <= 27.575000762939453\n",
      "Node 16: X[:, 28] <= 0.35785000026226044\n",
      "Node 18: X[:, 17] <= 0.02594500035047531\n",
      "Node 20: Leaf node\n"
     ]
    }
   ],
   "source": [
    "# Select a sample\n",
    "sample = arr_features[68].reshape(1, -1)\n",
    "\n",
    "# Get the decision path\n",
    "node_indicator = clf.decision_path(sample)\n",
    "\n",
    "# Get the indices of the nodes in the path\n",
    "node_index = node_indicator.indices\n",
    "\n",
    "print(\"Decision path for the sample:\")\n",
    "for node_id in node_index:\n",
    "    if node_id == node_index[-1]:\n",
    "        print(f\"Node {node_id}: Leaf node\")\n",
    "    else:\n",
    "        threshold = clf.tree_.threshold[node_id]\n",
    "        feature = clf.tree_.feature[node_id]\n",
    "        print(f\"Node {node_id}: X[:, {feature}] <= {threshold}\")"
   ]
  },
  {
   "cell_type": "code",
   "execution_count": null,
   "metadata": {},
   "outputs": [],
   "source": [
    "arr_features[68, :]"
   ]
  },
  {
   "cell_type": "code",
   "execution_count": null,
   "metadata": {},
   "outputs": [],
   "source": []
  },
  {
   "cell_type": "code",
   "execution_count": 374,
   "metadata": {},
   "outputs": [
    {
     "data": {
      "text/plain": [
       "[6, 27, 26, 25, 16]"
      ]
     },
     "execution_count": 374,
     "metadata": {},
     "output_type": "execute_result"
    }
   ],
   "source": [
    "import random\n",
    "\n",
    "random.sample(range(1, arr_features.shape[1]+1), 5)"
   ]
  },
  {
   "cell_type": "code",
   "execution_count": 384,
   "metadata": {},
   "outputs": [
    {
     "data": {
      "text/plain": [
       "array([[0.3001 , 0.2654 , 0.7119 , 0.6656 , 0.05373],\n",
       "       [0.0869 , 0.186  , 0.2416 , 0.1866 , 0.0186 ],\n",
       "       [0.1974 , 0.243  , 0.4504 , 0.4245 , 0.03832],\n",
       "       ...,\n",
       "       [0.09251, 0.1418 , 0.3403 , 0.3094 , 0.0473 ],\n",
       "       [0.3514 , 0.265  , 0.9387 , 0.8681 , 0.07117],\n",
       "       [0.     , 0.     , 0.     , 0.06444, 0.     ]])"
      ]
     },
     "execution_count": 384,
     "metadata": {},
     "output_type": "execute_result"
    }
   ],
   "source": [
    "arr_features[:, [6, 27, 26, 25, 16]]"
   ]
  },
  {
   "cell_type": "code",
   "execution_count": 386,
   "metadata": {},
   "outputs": [
    {
     "data": {
      "text/plain": [
       "np.float64(0.0869)"
      ]
     },
     "execution_count": 386,
     "metadata": {},
     "output_type": "execute_result"
    }
   ],
   "source": [
    "arr_features[1, 6]"
   ]
  },
  {
   "cell_type": "code",
   "execution_count": 391,
   "metadata": {},
   "outputs": [
    {
     "name": "stdout",
     "output_type": "stream",
     "text": [
      "0\n",
      "1\n",
      "2\n",
      "3\n",
      "4\n",
      "6\n",
      "7\n",
      "8\n",
      "9\n"
     ]
    }
   ],
   "source": [
    "for x in range(10):\n",
    "    if x == 5:\n",
    "        continue\n",
    "    print(x)"
   ]
  },
  {
   "cell_type": "code",
   "execution_count": 394,
   "metadata": {},
   "outputs": [
    {
     "name": "stdout",
     "output_type": "stream",
     "text": [
      "1\n",
      "2\n"
     ]
    }
   ],
   "source": [
    "num_features = 5\n",
    "feature_ids = [1,2]\n",
    "for feature_ind in range(num_features):\n",
    "    if feature_ids is not None and feature_ind not in feature_ids:\n",
    "        continue\n",
    "    print(feature_ind)"
   ]
  },
  {
   "cell_type": "code",
   "execution_count": 396,
   "metadata": {},
   "outputs": [],
   "source": [
    "def _feature_random(num_features, arr_features):\n",
    "    \"\"\"\n",
    "    Randomly select a subset of features to consider for splitting.\n",
    "\n",
    "    Parameters:\n",
    "        num_features (int): The total number of features in the dataset.\n",
    "\n",
    "    Returns:\n",
    "        list: A list of indices representing the randomly selected features.\n",
    "    \"\"\"\n",
    "\n",
    "    return random.sample(range(1, arr_features.shape[1] + 1), num_features)"
   ]
  },
  {
   "cell_type": "code",
   "execution_count": 399,
   "metadata": {},
   "outputs": [
    {
     "data": {
      "text/plain": [
       "[13, 1, 25, 16, 5]"
      ]
     },
     "execution_count": 399,
     "metadata": {},
     "output_type": "execute_result"
    }
   ],
   "source": [
    "_feature_random(5, arr_features)"
   ]
  },
  {
   "cell_type": "code",
   "execution_count": 400,
   "metadata": {},
   "outputs": [],
   "source": [
    "feature_ids = None if num_features == None else _feature_random(5, arr_features)"
   ]
  },
  {
   "cell_type": "code",
   "execution_count": 401,
   "metadata": {},
   "outputs": [
    {
     "data": {
      "text/plain": [
       "[8, 27, 21, 4, 24]"
      ]
     },
     "execution_count": 401,
     "metadata": {},
     "output_type": "execute_result"
    }
   ],
   "source": [
    "feature_ids"
   ]
  },
  {
   "cell_type": "code",
   "execution_count": 458,
   "metadata": {},
   "outputs": [
    {
     "name": "stdout",
     "output_type": "stream",
     "text": [
      "[4 1 2 1 1]\n"
     ]
    }
   ],
   "source": [
    "import numpy as np\n",
    "\n",
    "# Original data\n",
    "data = np.array([1, 2, 3, 4, 5])\n",
    "\n",
    "# Bootstrap sample\n",
    "bootstrap_sample = np.random.choice(data, size=len(data), replace=True)\n",
    "\n",
    "print(bootstrap_sample)"
   ]
  },
  {
   "cell_type": "code",
   "execution_count": 469,
   "metadata": {},
   "outputs": [
    {
     "data": {
      "text/plain": [
       "array([[1.497e+01, 1.695e+01, 9.622e+01, ..., 2.404e-01, 6.428e-02,\n",
       "        1.000e+00],\n",
       "       [1.373e+01, 2.261e+01, 9.360e+01, ..., 3.596e-01, 1.431e-01,\n",
       "        0.000e+00],\n",
       "       [1.346e+01, 1.875e+01, 8.744e+01, ..., 3.518e-01, 8.665e-02,\n",
       "        1.000e+00],\n",
       "       ...,\n",
       "       [1.630e+01, 1.570e+01, 1.047e+02, ..., 2.300e-01, 7.230e-02,\n",
       "        1.000e+00],\n",
       "       [2.309e+01, 1.983e+01, 1.521e+02, ..., 2.908e-01, 7.277e-02,\n",
       "        0.000e+00],\n",
       "       [1.075e+01, 1.497e+01, 6.826e+01, ..., 2.300e-01, 6.769e-02,\n",
       "        1.000e+00]])"
      ]
     },
     "execution_count": 469,
     "metadata": {},
     "output_type": "execute_result"
    }
   ],
   "source": [
    "data = np.append(arr_features, arr_target.reshape(-1, 1), axis=1)\n",
    "indices = np.random.choice(data.shape[0], size=data.shape[0], replace=True)\n",
    "bootstrap_sample = data[indices]\n",
    "bootstrap_sample"
   ]
  },
  {
   "cell_type": "code",
   "execution_count": 470,
   "metadata": {},
   "outputs": [
    {
     "data": {
      "text/plain": [
       "array([169,  14, 526, 224, 484, 389, 380, 564, 411, 428, 413,  35, 544,\n",
       "       114, 132, 384, 420, 307,  85, 383, 453, 242,  23, 422, 487, 230,\n",
       "       388, 267, 429, 349, 559, 478, 532, 220, 295, 439, 359, 264, 514,\n",
       "       228,  31, 379, 154, 322, 438, 325, 319, 125, 537,  74, 380, 357,\n",
       "       506, 100, 222, 444, 314, 227, 322, 216, 263, 256, 465, 308, 233,\n",
       "       465, 233, 555,  23, 204, 269, 362, 336, 218, 187, 459, 180, 430,\n",
       "       167, 288, 294, 449, 420, 360, 176, 113, 549, 361, 236,  47, 172,\n",
       "        90, 509, 134, 232, 156, 410, 218,  55, 148, 419, 565,  88, 104,\n",
       "        79, 335, 476, 137, 417, 422,  40, 154,  10, 463, 340, 395,  47,\n",
       "       327, 144,  84, 170, 504, 488, 322, 201,   6,   5, 200, 219, 114,\n",
       "        95, 487, 551, 289,  94, 343, 400,   2, 463, 294,   5, 291,  22,\n",
       "       454, 379, 231, 210,  98, 323, 426, 276,  81, 139, 314, 494,  69,\n",
       "       306, 464, 131, 531, 102, 269, 485, 462, 397,  23, 206, 141, 246,\n",
       "       447, 506, 206, 468, 458, 447,  17, 193, 471, 329, 282, 259, 527,\n",
       "       351,  13, 155, 342, 451,   4,  11, 316, 528, 552, 515, 131, 361,\n",
       "       298, 484, 272, 253, 367, 205, 320, 307, 543, 406, 499,  15, 527,\n",
       "       438, 478, 192, 489, 456,  38,  48, 561,  60, 491, 166, 105, 291,\n",
       "        99, 363, 432, 499,  54, 548, 327, 315, 434, 458, 441, 258,  31,\n",
       "       431, 287, 367, 214, 181, 482, 144, 287, 151,  88, 503, 125, 211,\n",
       "       198, 421, 304, 179, 533, 468,  42,  71, 437,  87, 148, 524, 225,\n",
       "        87, 341, 151, 290, 175, 459,  53,  24,  64,  96, 165, 246, 500,\n",
       "       187,   9,  10, 120, 276, 207, 243, 117, 392, 543, 481, 425, 285,\n",
       "        73,  70, 477, 156, 114, 148, 304,  52, 327, 460, 425, 164, 560,\n",
       "       422,  26,  31, 132, 205, 109, 509, 186, 397, 418, 224, 340,  69,\n",
       "       274, 286, 321, 212, 352, 561,  98, 326,  57, 489, 396,  87,  44,\n",
       "       184, 136, 361, 215,  58, 225, 524, 480, 539, 477,  68, 233, 281,\n",
       "       141, 312, 475, 193, 384,  19, 217, 559, 155, 353, 376, 280, 397,\n",
       "       377, 162, 390, 430, 294, 428, 423, 539, 351, 164, 549,  71, 217,\n",
       "       496, 500,  70, 473, 530, 535, 319, 305, 478, 385, 514, 504, 319,\n",
       "       388, 218,  18, 362,  89, 469, 105, 192, 394, 231, 375,  18, 306,\n",
       "       203,  38, 286,  48, 169,  37, 306, 332,  75, 155, 117, 452, 136,\n",
       "       293, 212, 427, 544, 537, 338, 212, 468, 312, 112, 408, 547, 241,\n",
       "       355, 457, 531,  63, 384, 239, 371, 237, 281, 556, 365, 304, 409,\n",
       "       556,  95, 565, 539, 271, 477, 345, 227, 218, 411, 194, 249, 532,\n",
       "       555, 444, 396, 554, 146, 273,  52, 323, 143, 542, 271, 170, 211,\n",
       "       350, 204, 431,   8, 195,  12, 476, 391, 123,  89, 326, 342, 377,\n",
       "       111, 347, 117, 269, 219, 107, 121, 170, 542, 498, 130, 524, 417,\n",
       "       471, 174,  67, 500, 388, 132,  38, 250,  85, 340, 339, 431, 386,\n",
       "       346, 289, 446,  19, 245, 221, 288,  20, 387, 145, 479, 477, 393,\n",
       "        38, 205, 253, 362, 421, 488, 186, 366, 286,  45, 394, 546, 327,\n",
       "       131, 310, 116, 429, 325,  34, 399, 526, 459, 170,  73, 538, 338,\n",
       "       560, 335,  76, 475, 275, 130, 462, 553, 513, 304, 364, 246, 115,\n",
       "       458, 388, 322, 110,  87, 316, 513, 477,  19, 438, 301, 520, 157,\n",
       "       407, 538, 210, 288, 354, 266,  32, 508, 503, 144])"
      ]
     },
     "execution_count": 470,
     "metadata": {},
     "output_type": "execute_result"
    }
   ],
   "source": [
    "indices"
   ]
  },
  {
   "cell_type": "code",
   "execution_count": 462,
   "metadata": {},
   "outputs": [
    {
     "data": {
      "text/plain": [
       "(569, 30)"
      ]
     },
     "execution_count": 462,
     "metadata": {},
     "output_type": "execute_result"
    }
   ],
   "source": [
    "arr_features.shape"
   ]
  },
  {
   "cell_type": "code",
   "execution_count": 475,
   "metadata": {},
   "outputs": [
    {
     "data": {
      "text/plain": [
       "array([[1.799e+01, 1.038e+01, 1.228e+02, 1.001e+03, 1.184e-01, 2.776e-01,\n",
       "        3.001e-01, 1.471e-01, 2.419e-01, 7.871e-02, 1.095e+00, 9.053e-01,\n",
       "        8.589e+00, 1.534e+02, 6.399e-03, 4.904e-02, 5.373e-02, 1.587e-02,\n",
       "        3.003e-02, 6.193e-03, 2.538e+01, 1.733e+01, 1.846e+02, 2.019e+03,\n",
       "        1.622e-01, 6.656e-01, 7.119e-01, 2.654e-01, 4.601e-01, 1.189e-01,\n",
       "        0.000e+00],\n",
       "       [1.799e+01, 1.038e+01, 1.228e+02, 1.001e+03, 1.184e-01, 2.776e-01,\n",
       "        3.001e-01, 1.471e-01, 2.419e-01, 7.871e-02, 1.095e+00, 9.053e-01,\n",
       "        8.589e+00, 1.534e+02, 6.399e-03, 4.904e-02, 5.373e-02, 1.587e-02,\n",
       "        3.003e-02, 6.193e-03, 2.538e+01, 1.733e+01, 1.846e+02, 2.019e+03,\n",
       "        1.622e-01, 6.656e-01, 7.119e-01, 2.654e-01, 4.601e-01, 1.189e-01,\n",
       "        0.000e+00]])"
      ]
     },
     "execution_count": 475,
     "metadata": {},
     "output_type": "execute_result"
    }
   ],
   "source": [
    "data[np.array([0, 0])]"
   ]
  },
  {
   "cell_type": "code",
   "execution_count": 474,
   "metadata": {},
   "outputs": [
    {
     "data": {
      "text/plain": [
       "array([[1.799e+01, 1.038e+01, 1.228e+02, ..., 4.601e-01, 1.189e-01,\n",
       "        0.000e+00],\n",
       "       [2.057e+01, 1.777e+01, 1.329e+02, ..., 2.750e-01, 8.902e-02,\n",
       "        0.000e+00],\n",
       "       [1.969e+01, 2.125e+01, 1.300e+02, ..., 3.613e-01, 8.758e-02,\n",
       "        0.000e+00],\n",
       "       ...,\n",
       "       [1.660e+01, 2.808e+01, 1.083e+02, ..., 2.218e-01, 7.820e-02,\n",
       "        0.000e+00],\n",
       "       [2.060e+01, 2.933e+01, 1.401e+02, ..., 4.087e-01, 1.240e-01,\n",
       "        0.000e+00],\n",
       "       [7.760e+00, 2.454e+01, 4.792e+01, ..., 2.871e-01, 7.039e-02,\n",
       "        1.000e+00]])"
      ]
     },
     "execution_count": 474,
     "metadata": {},
     "output_type": "execute_result"
    }
   ],
   "source": [
    "data"
   ]
  },
  {
   "cell_type": "code",
   "execution_count": 476,
   "metadata": {},
   "outputs": [],
   "source": [
    "X_sample = data[:, :-1]\n",
    "y_sample = data[:, -1]"
   ]
  },
  {
   "cell_type": "code",
   "execution_count": 480,
   "metadata": {},
   "outputs": [
    {
     "data": {
      "text/plain": [
       "array([[1.799e+01, 1.038e+01, 1.228e+02, ..., 2.654e-01, 4.601e-01,\n",
       "        1.189e-01],\n",
       "       [2.057e+01, 1.777e+01, 1.329e+02, ..., 1.860e-01, 2.750e-01,\n",
       "        8.902e-02],\n",
       "       [1.969e+01, 2.125e+01, 1.300e+02, ..., 2.430e-01, 3.613e-01,\n",
       "        8.758e-02],\n",
       "       ...,\n",
       "       [1.660e+01, 2.808e+01, 1.083e+02, ..., 1.418e-01, 2.218e-01,\n",
       "        7.820e-02],\n",
       "       [2.060e+01, 2.933e+01, 1.401e+02, ..., 2.650e-01, 4.087e-01,\n",
       "        1.240e-01],\n",
       "       [7.760e+00, 2.454e+01, 4.792e+01, ..., 0.000e+00, 2.871e-01,\n",
       "        7.039e-02]])"
      ]
     },
     "execution_count": 480,
     "metadata": {},
     "output_type": "execute_result"
    }
   ],
   "source": [
    "arr_features"
   ]
  },
  {
   "cell_type": "code",
   "execution_count": 481,
   "metadata": {},
   "outputs": [],
   "source": [
    "# create a array of indices of the same size as the data, with replacement\n",
    "indices = np.random.choice(data.shape[0], size=data.shape[0], replace=True)\n",
    "# create a bootstrap sample using the indices\n",
    "bootstrap_sample = data[indices]\n",
    "X_sample = bootstrap_sample[:, :-1]\n",
    "y_sample = bootstrap_sample[:, -1]"
   ]
  },
  {
   "cell_type": "code",
   "execution_count": 487,
   "metadata": {},
   "outputs": [
    {
     "data": {
      "text/plain": [
       "False"
      ]
     },
     "execution_count": 487,
     "metadata": {},
     "output_type": "execute_result"
    }
   ],
   "source": [
    "{1: 1, 6: 2, 3: 3} == {1: 1, 2: 2, 3: 3}"
   ]
  },
  {
   "cell_type": "code",
   "execution_count": null,
   "metadata": {},
   "outputs": [],
   "source": [
    "array_1 = np.array([1, 0, 0, 0, 0])\n",
    "array_2 = np.array([1, 1, 0, 0, 0])\n",
    "array_lst = [array_1, array_2]\n",
    "bool_array = np.mean(array_lst, axis=0)>0.5\n",
    "test = np.zeros(len(array_1))\n",
    "test[bool_array] = 1\n",
    "test\n",
    "# (array_1 + array_2)/2"
   ]
  },
  {
   "cell_type": "code",
   "execution_count": null,
   "metadata": {},
   "outputs": [
    {
     "data": {
      "text/plain": [
       "array([1., 0., 0., 0., 0.])"
      ]
     },
     "execution_count": 501,
     "metadata": {},
     "output_type": "execute_result"
    }
   ],
   "source": []
  },
  {
   "cell_type": "code",
   "execution_count": null,
   "metadata": {},
   "outputs": [],
   "source": [
    "        n = len(y)\n",
    "        ones_vector = np.ones(n)\n",
    "        cost_function = 1 / n * ones_vector@np.dot((prediction - y).T, (prediction - y))"
   ]
  }
 ],
 "metadata": {
  "kernelspec": {
   "display_name": ".venv",
   "language": "python",
   "name": "python3"
  },
  "language_info": {
   "codemirror_mode": {
    "name": "ipython",
    "version": 3
   },
   "file_extension": ".py",
   "mimetype": "text/x-python",
   "name": "python",
   "nbconvert_exporter": "python",
   "pygments_lexer": "ipython3",
   "version": "3.13.0"
  }
 },
 "nbformat": 4,
 "nbformat_minor": 2
}
